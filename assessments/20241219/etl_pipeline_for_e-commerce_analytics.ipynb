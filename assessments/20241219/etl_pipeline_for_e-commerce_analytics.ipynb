{
 "cells": [
  {
   "cell_type": "markdown",
   "metadata": {},
   "source": [
    "Exercise 3: ETL Pipeline for E-commerce Analytics\n",
    "\n",
    "Scenario\n",
    "\n",
    "You're building an ETL pipeline for an e-commerce platform that needs to process daily\n",
    "transaction data and generate analytics reports.\n",
    "\n",
    "Task\n",
    "\n",
    "Create a system that can process raw transaction data, transform it into analytical\n",
    "formats, and generate summary reports."
   ]
  },
  {
   "cell_type": "code",
   "execution_count": 4,
   "metadata": {},
   "outputs": [],
   "source": [
    "import json\n",
    "from collections import defaultdict\n",
    "\n",
    "def read_json(file_path):\n",
    "  \n",
    "    with open(file_path, 'r') as f:\n",
    "        transactions = json.load(f)\n",
    "    return transactions\n",
    "\n",
    "\n",
    "file_path = r'C:\\Users\\aravi\\Desktop\\Assessment_Python\\assessments\\20241219\\sample-dataset-3.json'  \n",
    "transactions = read_json(file_path)"
   ]
  },
  {
   "cell_type": "code",
   "execution_count": null,
   "metadata": {},
   "outputs": [],
   "source": [
    "transactions"
   ]
  },
  {
   "cell_type": "markdown",
   "metadata": {},
   "source": [
    "1. Create a function that transforms raw transaction data:\n",
    "Flatten nested JSON structures using lambda functions\n",
    "Calculate total transaction values\n",
    "Extract unique product categories using map() and set()"
   ]
  },
  {
   "cell_type": "code",
   "execution_count": 1,
   "metadata": {},
   "outputs": [],
   "source": [
    "\n",
    "def transform_transaction(transactions):\n",
    "    transformed_transactions = []\n",
    "    for transaction in transactions:\n",
    "        transformed_transaction = {\n",
    "            \"transaction_id\": transaction[\"transaction_id\"],\n",
    "            \"timestamp\": transaction[\"timestamp\"],\n",
    "            \"customer_id\": transaction[\"customer\"][\"id\"],\n",
    "            \"region\": transaction[\"customer\"].get(\"region\", \"Unknown\"),\n",
    "            \"payment_method\": transaction[\"payment_method\"],\n",
    "            \"status\": transaction[\"status\"],\n",
    "            \"total_value\": sum(item[\"price\"] * item[\"quantity\"] for item in transaction[\"items\"]),\n",
    "            \"product_categories\": list(set(item[\"category\"] for item in transaction[\"items\"]))\n",
    "        }\n",
    "        transformed_transactions.append(transformed_transaction)\n",
    "    return transformed_transactions"
   ]
  },
  {
   "cell_type": "code",
   "execution_count": 6,
   "metadata": {},
   "outputs": [],
   "source": [
    "trans = transform_transaction(transactions)"
   ]
  },
  {
   "cell_type": "markdown",
   "metadata": {},
   "source": [
    "2. Create analysis functions that:\n",
    "Group transactions by region and calculate regional sales\n",
    "Find top-selling products using sorted() with custom key\n",
    "Calculate average transaction value by payment method"
   ]
  },
  {
   "cell_type": "code",
   "execution_count": null,
   "metadata": {},
   "outputs": [],
   "source": [
    "def analyze_regional_sales(transactions):\n",
    "   \n",
    "    regional_sales = defaultdict(float)\n",
    "    for transaction in transactions:\n",
    "        regional_sales[transaction[\"region\"]] += transaction[\"total_value\"]\n",
    "    return regional_sales\n",
    "\n",
    "def find_top_selling_products(transactions, top_n=5):\n",
    "    product_quantities = defaultdict(int)\n",
    "    for transaction in transactions:\n",
    "        for item in transaction[\"items\"]:\n",
    "            product_quantities[item[\"product_id\"]] += item[\"quantity\"]\n",
    "    sorted_products = sorted(product_quantities.items(), key=lambda item: item[1], reverse=True)\n",
    "    return sorted_products[:top_n]\n",
    "\n",
    "def calculate_average_transaction_value(transactions):\n",
    "    payment_method_totals = defaultdict(lambda: {\"total_value\": 0, \"count\": 0})\n",
    "    for transaction in transactions:\n",
    "        payment_method = transaction[\"payment_method\"]\n",
    "        payment_method_totals[payment_method][\"total_value\"] += transaction[\"total_value\"]\n",
    "        payment_method_totals[payment_method][\"count\"] += 1\n",
    "    average_transaction_values = {\n",
    "        payment_method: totals[\"total_value\"] / totals[\"count\"]\n",
    "        for payment_method, totals in payment_method_totals.items()\n",
    "        if totals[\"count\"] > 0\n",
    "    }\n",
    "    return average_transaction_values"
   ]
  },
  {
   "cell_type": "code",
   "execution_count": null,
   "metadata": {},
   "outputs": [],
   "source": [
    "analyze_regional_sales(trans)"
   ]
  },
  {
   "cell_type": "code",
   "execution_count": null,
   "metadata": {},
   "outputs": [],
   "source": [
    "find_top_selling_products(transactions)\n"
   ]
  },
  {
   "cell_type": "code",
   "execution_count": null,
   "metadata": {},
   "outputs": [],
   "source": [
    "calculate_average_transaction_value(trans)"
   ]
  },
  {
   "cell_type": "markdown",
   "metadata": {},
   "source": [
    "3. Create a report generation function that:\n",
    "Filters completed transactions using filter()\n",
    "Sorts data by multiple criteria using lambda\n",
    "Generates summary statistics for different time periods"
   ]
  },
  {
   "cell_type": "code",
   "execution_count": 42,
   "metadata": {},
   "outputs": [],
   "source": [
    "def generate_summary_report(transactions, start_date=None, end_date=None):\n",
    "    filtered_transactions = transactions\n",
    "    if start_date:\n",
    "        filtered_transactions = list(filter(lambda t: t[\"timestamp\"] >= start_date, filtered_transactions))\n",
    "    if end_date:\n",
    "        filtered_transactions = list(filter(lambda t: t[\"timestamp\"] <= end_date, filtered_transactions))\n",
    "\n",
    "    total_transactions = len(filtered_transactions)\n",
    "    total_revenue = sum(t[\"total_value\"] for t in filtered_transactions)\n",
    "    \n",
    "    \n",
    "    transactions_by_region = defaultdict(int)\n",
    "    for transaction in filtered_transactions:\n",
    "        transactions_by_region[transaction[\"region\"]] += 1\n",
    "\n",
    "    report = {\n",
    "        \"Total transactions are \": total_transactions,\n",
    "        \"Total Revenue is \": total_revenue,\n",
    "        \"Transactions based on regions are \": transactions_by_region\n",
    "    }\n",
    "    return report"
   ]
  },
  {
   "cell_type": "code",
   "execution_count": null,
   "metadata": {},
   "outputs": [],
   "source": [
    "generate_summary_report(trans)"
   ]
  }
 ],
 "metadata": {
  "kernelspec": {
   "display_name": "Python 3",
   "language": "python",
   "name": "python3"
  },
  "language_info": {
   "codemirror_mode": {
    "name": "ipython",
    "version": 3
   },
   "file_extension": ".py",
   "mimetype": "text/x-python",
   "name": "python",
   "nbconvert_exporter": "python",
   "pygments_lexer": "ipython3",
   "version": "3.12.8"
  }
 },
 "nbformat": 4,
 "nbformat_minor": 2
}
