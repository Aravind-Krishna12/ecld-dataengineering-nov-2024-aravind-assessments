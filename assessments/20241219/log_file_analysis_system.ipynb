{
 "cells": [
  {
   "cell_type": "markdown",
   "metadata": {},
   "source": [
    "Exercise 1: Log File Analysis System\n",
    "\n",
    "Scenario\n",
    "\n",
    "You're working at a cloud services company that needs to analyze system logs from\n",
    "multiple servers. The logs are in JSON format and contain information about server\n",
    "events, errors, and performance metrics.\n",
    "\n",
    "Task\n",
    "\n",
    "Create a system that can process and analyze these log entries to help identify\n",
    "potential issues and generate reports."
   ]
  },
  {
   "cell_type": "code",
   "execution_count": 3,
   "metadata": {},
   "outputs": [],
   "source": [
    "import json\n",
    "\n",
    "def read_json(file_path):\n",
    "  \n",
    "    with open(file_path, 'r') as f:\n",
    "        logs = json.load(f)\n",
    "    return logs\n",
    "\n",
    "\n",
    "file_path = r'C:\\Users\\aravi\\Desktop\\Assessment_Python\\assessments\\20241219\\sample-dataset-1.json'  \n",
    "logs = read_json(file_path)"
   ]
  },
  {
   "cell_type": "code",
   "execution_count": null,
   "metadata": {},
   "outputs": [],
   "source": [
    "logs"
   ]
  },
  {
   "cell_type": "markdown",
   "metadata": {},
   "source": [
    "1. Create a function that filters log entries to find:\n",
    "\n",
    "All high-priority warnings using filter() and lambda\n",
    "Servers with CPU usage above 80% using list comprehension"
   ]
  },
  {
   "cell_type": "code",
   "execution_count": null,
   "metadata": {},
   "outputs": [],
   "source": [
    "def filter_logs(logs):\n",
    "  \n",
    "    high_priority_warnings = list(filter(lambda x: x[\"status\"] == \"warning\" and x[\"priority\"] == \"high\", logs))\n",
    "    high_cpu_servers = [x[\"server_id\"] for x in logs if x[\"event_type\"] == \"performance\" and x[\"metrics\"][\"cpu_usage\"] > 80]\n",
    "    return high_priority_warnings,f\" Servers with high CPU usage are {high_cpu_servers}\" \n"
   ]
  },
  {
   "cell_type": "markdown",
   "metadata": {},
   "source": [
    "2. Create a function that extracts unique server IDs using map() and set()"
   ]
  },
  {
   "cell_type": "code",
   "execution_count": null,
   "metadata": {},
   "outputs": [],
   "source": [
    "def unique_server_ids(logs):\n",
    "  \n",
    "    unique_server_ids = set(map(lambda x: x[\"server_id\"], logs))\n",
    "    return unique_server_ids"
   ]
  },
  {
   "cell_type": "markdown",
   "metadata": {},
   "source": [
    "3. Create a function that sorts the log entries by:\n",
    "Timestamp (primary key)\n",
    "Priority (secondary key) Using the sorted() function with a lambda key"
   ]
  },
  {
   "cell_type": "code",
   "execution_count": null,
   "metadata": {},
   "outputs": [],
   "source": [
    "def sorted_entries(logs):\n",
    "  \n",
    "    sorted_logs = sorted(logs, key=lambda x: (x[\"timestamp\"], x[\"priority\"]))\n",
    "    return sorted_logs"
   ]
  },
  {
   "cell_type": "markdown",
   "metadata": {},
   "source": [
    "4. Bonus: Create a function that generates a summary report showing:\n",
    "Count of events by priority\n",
    "List of unique event types\n",
    "Average CPU usage across all servers"
   ]
  },
  {
   "cell_type": "code",
   "execution_count": 5,
   "metadata": {},
   "outputs": [],
   "source": [
    "def generate_summary_report(logs):\n",
    "    priority_counts = {}\n",
    "    event_types = set()\n",
    "    total_cpu = 0\n",
    "    valid_log_count = 0\n",
    "\n",
    "    for entry in logs:\n",
    "      if entry:\n",
    "        priority = entry.get('priority', 'unknown')\n",
    "        priority_counts[priority] = priority_counts.get(priority, 0) + 1\n",
    "        event_types.add(entry.get('event_type'))\n",
    "        cpu_usage = entry.get('metrics', {}).get('cpu_usage')\n",
    "        if cpu_usage is not None:\n",
    "            total_cpu += cpu_usage\n",
    "            valid_log_count += 1\n",
    "    \n",
    "    avg_cpu_usage = total_cpu / valid_log_count if valid_log_count > 0 else 0\n",
    "    \n",
    "    return {\n",
    "        'priority_counts': priority_counts,\n",
    "        'event_types': list(event_types),\n",
    "        'average_cpu_usage': avg_cpu_usage\n",
    "    }\n"
   ]
  },
  {
   "cell_type": "code",
   "execution_count": null,
   "metadata": {},
   "outputs": [],
   "source": [
    "filter_logs(logs)"
   ]
  },
  {
   "cell_type": "code",
   "execution_count": null,
   "metadata": {},
   "outputs": [],
   "source": [
    "unique_server_ids(logs)"
   ]
  },
  {
   "cell_type": "code",
   "execution_count": null,
   "metadata": {},
   "outputs": [],
   "source": [
    "sorted_entries(logs)"
   ]
  },
  {
   "cell_type": "code",
   "execution_count": 6,
   "metadata": {},
   "outputs": [
    {
     "data": {
      "text/plain": [
       "{'priority_counts': {'high': 5, 'low': 1, 'medium': 2},\n",
       " 'event_types': ['performance',\n",
       "  'security',\n",
       "  'network',\n",
       "  'database',\n",
       "  'application'],\n",
       " 'average_cpu_usage': 74.2}"
      ]
     },
     "execution_count": 6,
     "metadata": {},
     "output_type": "execute_result"
    }
   ],
   "source": [
    "generate_summary_report(logs)"
   ]
  }
 ],
 "metadata": {
  "kernelspec": {
   "display_name": "Python 3",
   "language": "python",
   "name": "python3"
  },
  "language_info": {
   "codemirror_mode": {
    "name": "ipython",
    "version": 3
   },
   "file_extension": ".py",
   "mimetype": "text/x-python",
   "name": "python",
   "nbconvert_exporter": "python",
   "pygments_lexer": "ipython3",
   "version": "3.12.8"
  }
 },
 "nbformat": 4,
 "nbformat_minor": 2
}
